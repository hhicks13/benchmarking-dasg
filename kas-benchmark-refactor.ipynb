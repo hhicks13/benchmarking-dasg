{
 "cells": [
  {
   "cell_type": "code",
   "execution_count": 1,
   "metadata": {},
   "outputs": [],
   "source": [
    "# imports\n",
    "import collections\n",
    "import math\n",
    "import heapq\n",
    "import numpy as np\n",
    "import itertools as it\n",
    "import networkx as nx\n",
    "import matplotlib.pyplot as plt\n",
    "from networkx.algorithms import bipartite\n",
    "from collections import deque\n",
    "from itertools import cycle\n"
   ]
  },
  {
   "cell_type": "markdown",
   "metadata": {},
   "source": [
    "# Compare Almost Symmetry Runtimes"
   ]
  },
  {
   "cell_type": "markdown",
   "metadata": {},
   "source": [
    "# DegreeDiffElim"
   ]
  },
  {
   "cell_type": "code",
   "execution_count": 2,
   "metadata": {},
   "outputs": [],
   "source": [
    "def DegreeDiffElim(G_A,P_A,kA):\n",
    "    edges = list(P_A.edges())\n",
    "    for e in edges:\n",
    "        if abs(G_A.degree(e[0]) - G_A.degree(e[1])) > kA:\n",
    "            P_A.remove_edge(*e)\n",
    "    return P_A"
   ]
  },
  {
   "cell_type": "markdown",
   "metadata": {},
   "source": [
    "# FixedDegElim"
   ]
  },
  {
   "cell_type": "code",
   "execution_count": 3,
   "metadata": {},
   "outputs": [],
   "source": [
    "def FixedDegElim(G_A,P_A,Ef_A):\n",
    "    edges = list(P_A.edges())\n",
    "    for e in edges:\n",
    "        if Ef_A.degree(e[0]) > G_A.degree(e[1]):\n",
    "            P_A.remove_edge(*e)\n",
    "    return P_A"
   ]
  },
  {
   "cell_type": "markdown",
   "metadata": {},
   "source": [
    "# Build Cost Matrix Helper Functions"
   ]
  },
  {
   "cell_type": "code",
   "execution_count": 4,
   "metadata": {},
   "outputs": [],
   "source": [
    "def print_independence(v,i,j,G_A):\n",
    "    edge,Ni,Nj = pair2neighborhood(G_A,1,2)\n",
    "    _i = edge[0]\n",
    "    _j = edge[1]\n",
    "    print(Ni)\n",
    "    print(f\"Neighborhood of {_i} is {Ni}\")\n",
    "    for _ni in nx.neighbors(G_A,_i):\n",
    "        print(_ni)\n",
    "    print(f\"Neighborhood of {_j} is {Nj}\")\n",
    "    for _nj in nx.neighbors(G_A,_j):\n",
    "        print(_nj)\n",
    "    print(\"------\")\n",
    "    niUnj = Ni | Nj\n",
    "    for _e in niUnj:print(_e)\n",
    "\n",
    "    print(f\"Ni union Nj: {niUnj}\")\n",
    "    Nv = set(nx.neighbors(G_A,v))\n",
    "    print(f\"Neighborhood of v: {Nv}\")\n",
    "    _intersection = niUnj.intersection(Nv) \n",
    "    print(f\"Intersection of Nv and Ni U Nj: {_intersection}\")\n",
    "    print(_intersection)"
   ]
  },
  {
   "cell_type": "markdown",
   "metadata": {},
   "source": [
    "#  Vertex independence: used in weight assignment"
   ]
  },
  {
   "cell_type": "code",
   "execution_count": 5,
   "metadata": {},
   "outputs": [],
   "source": [
    "# check independence \n",
    "#\n",
    "def vertex_independent_from(v,i,j,G_A):\n",
    "    edge,Ni,Nj = pair2neighborhood(G_A,i,j)\n",
    "    _i = edge[0]\n",
    "    _j = edge[1]\n",
    "    #print(\"------\")\n",
    "    niUnj = Ni | Nj\n",
    "    #for _e in niUnj:print(_e)\n",
    "    #print(f\"Ni union Nj: {niUnj}\")\n",
    "    Nv = set(nx.neighbors(G_A,v))\n",
    "    #print(f\"Neighborhood of v: {Nv}\")\n",
    "    _intersection = niUnj.intersection(Nv) \n",
    "    #print(f\"Intersection of Nv and Ni U Nj: {_intersection}\")\n",
    "    #print(_intersection)\n",
    "    return not bool(_intersection)"
   ]
  },
  {
   "cell_type": "code",
   "execution_count": 6,
   "metadata": {},
   "outputs": [],
   "source": [
    "# larger neighborhood should be Ni (line 6 in DKAS)\n",
    "# larger neighborhood should be on left\n",
    "def sortByLength(set1,set2):\n",
    "    if len(set1) == len(set2):\n",
    "        return set1, set2\n",
    "    elif len(set1) > len(set2):\n",
    "        return set1, set2\n",
    "    else:\n",
    "        return set2,set1"
   ]
  },
  {
   "cell_type": "markdown",
   "metadata": {},
   "source": [
    "# Assign Weights to mappings: ensures neighborhoods matched together. "
   ]
  },
  {
   "cell_type": "code",
   "execution_count": 7,
   "metadata": {},
   "outputs": [],
   "source": [
    "# mostly as written in DASG paper\n",
    "# page 8, lines 10-20\n",
    "#\n",
    "#\n",
    "# cost in terms of 'degrees decremented / half-edges removed'\n",
    "def assign_weight_k1(e,i,j,G_A,P_A,k_A):\n",
    "    u = e[0]\n",
    "    v = e[1]\n",
    "    # mapping to self has 0 cost\n",
    "    if u == v:\n",
    "        return 0\n",
    "    #print(\"assigning weight\",e)\n",
    "    degu = G_A.degree(u)\n",
    "    degv = G_A.degree(v)\n",
    "    # elif because only one neighborhood is being decremented.\n",
    "    if u in (i,j):\n",
    "        degu = max(degu - k_A,0)\n",
    "    elif v in (i,j):\n",
    "        degv = max(degv - k_A,0)\n",
    "    # if mapping being tested coincides with edge. \n",
    "    if e == (i,j) or e == (j,i):\n",
    "        #print(f\"edge {e} being weighted is mapping {i},{j} being tested\")\n",
    "        return 0\n",
    "    #\n",
    "    if (u,v) in P_A.edges() or (v,u) in P_A.edges():\n",
    "        #print(f\"{e} in {P_A.edges()}?\")\n",
    "        #cost tightened here\n",
    "        if degu > degv and vertex_independent_from(u,i,j,G_A):\n",
    "            #print(f\"{e} satisfies FIRST 1 clause!!!!!!!!!!!!!!!!!!!!!!!!!!!!!!!!!!!!!!!!!!!\")\n",
    "            return -2*(degu - degv)\n",
    "        elif degv > degu and vertex_independent_from(v,i,j,G_A):\n",
    "            #print(f\"{e} satisfies SECOND 2 clause!!!!!!!!!!!!!!!!!!!!!!!!!!!!!!!!!!!!!!!!!!\")\n",
    "            return -2*(degv - degu)\n",
    "        else:\n",
    "            #print(f\"{e} satisfies THIRD 3 clause\")\n",
    "            return -abs(degu - degv)\n",
    "    else:\n",
    "        return -math.inf"
   ]
  },
  {
   "cell_type": "markdown",
   "metadata": {},
   "source": []
  },
  {
   "cell_type": "code",
   "execution_count": 8,
   "metadata": {},
   "outputs": [],
   "source": [
    "# this is for d2v and v2d\n",
    "def assign_weight_k2(neighbor,dummy_parent,Ef_A):\n",
    "    edge = (neighbor,dummy_parent)\n",
    "    if edge in Ef_A.edges():\n",
    "        return -math.inf\n",
    "    else: return -2"
   ]
  },
  {
   "cell_type": "code",
   "execution_count": 9,
   "metadata": {},
   "outputs": [],
   "source": [
    "# returns python set of integers, sorted by length\n",
    "def pair2neighborhood(g,i,j):\n",
    "    N_i = set((e for e in nx.neighbors(g,i)))\n",
    "    N_j = set((f for f in nx.neighbors(g,j)))\n",
    "    #\n",
    "    Ni,Nj = sortByLength(N_i,N_j)\n",
    "    if g.degree(i) < g.degree(j):\n",
    "        _i = j\n",
    "        _j = i\n",
    "    else:\n",
    "        # no exchange\n",
    "        _i = i\n",
    "        _j = j\n",
    "    #\n",
    "    edge = (_i,_j)\n",
    "    return edge, Ni,Nj"
   ]
  },
  {
   "cell_type": "markdown",
   "metadata": {},
   "source": [
    "# Build Cost Matrix"
   ]
  },
  {
   "cell_type": "code",
   "execution_count": 10,
   "metadata": {},
   "outputs": [],
   "source": [
    "# build-cost-matrix using python set\n",
    "def BuildCostMatrix(i,j,G_A,P_A,Ef_A,k_A):\n",
    "    _edge, _Ni_int,_Nj_int = pair2neighborhood(G_A,i,j)\n",
    "# initialize    \n",
    "    CostMatrix = nx.Graph()\n",
    "    degDiff = abs(G_A.degree(i) - G_A.degree(j))\n",
    "    Ni = []\n",
    "    Nj = []\n",
    "    xi = []\n",
    "    xj = []\n",
    "    _i = _edge[0]\n",
    "    _j = _edge[1]\n",
    "    # swap j and i in order to consistently refer to larger set on left\n",
    "    if G_A.degree(i) < G_A.degree(j):\n",
    "        _i = j\n",
    "        _j = i\n",
    "    else:\n",
    "        # no exchange\n",
    "        _i = i\n",
    "        _j = j\n",
    "    \n",
    "    \n",
    "# make vertices\n",
    "##\n",
    "## dummy: used for edge deletion\n",
    "## parent: used in weight assignment logic\n",
    "## value: used in updating permutation graph\n",
    "##\n",
    "    for e in _Ni_int:\n",
    "        name = \"i\" + str(e)\n",
    "        Ni.append(name)\n",
    "        CostMatrix.add_node(name,bipartite=0,dummy=False,parent=_i,value=e)\n",
    "    for f in _Nj_int:\n",
    "        name = \"j\" + str(f)\n",
    "        Nj.append(name)\n",
    "        CostMatrix.add_node(name,bipartite=1,dummy=False,parent=_j,value=f)\n",
    "        \n",
    "    #print(f\"vertices for Ni: {Ni}\")\n",
    "    #print(f\"vertices for Nj: {Nj}\")\n",
    "    \n",
    "# # larger set xi goes in right partition of graph as indicated by 'bipartite' parameter\n",
    "    for xe in range(1,degDiff+k_A):\n",
    "        name = \"xi\" + str(xe)\n",
    "        xi.append(name)\n",
    "        CostMatrix.add_node(name,bipartite=1,dummy=True,parent=_i,value=_i)\n",
    "    for xf in range(1,k_A):\n",
    "        name = \"xj\" + str(xf)\n",
    "        xj.append(name)\n",
    "        CostMatrix.add_node(name,bipartite=0,dummy=True,parent=_j,value=_j)\n",
    "        \n",
    "    #print(f\"xi: {xi}\")\n",
    "    #print(f\"xj: {xj}\")\n",
    "    \n",
    "# make edges (weights negated)\n",
    "    value = nx.get_node_attributes(CostMatrix,'value') # used for permutation graph update\n",
    "    parent = nx.get_node_attributes(CostMatrix,'parent') # used for weight assignment\n",
    "# # vertex to vertex\n",
    "    V2V = []\n",
    "    for e0 in it.product(Ni,Nj):\n",
    "        _edge0 = (value[e0[0]],value[e0[1]])\n",
    "        weight = assign_weight_k1(_edge0,i,j,G_A,P_A,k_A)\n",
    "        #print(f\" {_edge0} assigned weight: {weight} \")\n",
    "            \n",
    "        #print(f\" vertex to vertex (Ni cross Nj): {e0} ;weight: {weight}\")\n",
    "        V2V.append((*e0,weight))\n",
    "        \n",
    "# # vertex to dummy\n",
    "    D2V = []\n",
    "# # #\"draw an edge between vj and xj\"\n",
    "    for e1 in it.product(xj,Nj):\n",
    "        weight = assign_weight_k2(value[e1[1]],parent[e1[0]],Ef_A)\n",
    "        #print(f\" dummy to vertex (xj cross Nj): {e1} ;weight: {weight}\")\n",
    "        D2V.append((*e1,weight))\n",
    "    \n",
    "    V2D = []\n",
    "# # #\"draw an edge between ui and xi\"\n",
    "    for e2 in it.product(Ni,xi):\n",
    "        weight = assign_weight_k2(value[e2[0]],parent[e2[1]],Ef_A)\n",
    "        #print(f\" vertex to dummy (Ni cross xi): {e2} ;weight: {weight}\")\n",
    "        D2V.append((*e2,weight))\n",
    "\n",
    "# # dummy to dummy\n",
    "    D2D = []\n",
    "    for e3 in it.product(xj,xi):\n",
    "        #print(f\"dummy to dummy {e3}\")\n",
    "        D2D.append((*e3,0))\n",
    "\n",
    "# add weighted edges\n",
    "    CostMatrix.add_weighted_edges_from(V2V)\n",
    "    CostMatrix.add_weighted_edges_from(D2V)\n",
    "    CostMatrix.add_weighted_edges_from(V2D)\n",
    "    CostMatrix.add_weighted_edges_from(D2D)\n",
    "# display\n",
    "    #l,r = bipartite.sets(CostMatrix)\n",
    "    #print(f\"bipartite.sets left set {l}\")\n",
    "    #print(f\"bipartite.sets right set {r}\")\n",
    "    return CostMatrix "
   ]
  },
  {
   "cell_type": "markdown",
   "metadata": {},
   "source": [
    "# HungarianSolve: find cost perfect matching"
   ]
  },
  {
   "cell_type": "code",
   "execution_count": 11,
   "metadata": {},
   "outputs": [],
   "source": [
    "# \n",
    "# draw bipartite graph\n",
    "#\n",
    "def plot_cost_matrix(CostMatrix):\n",
    "    l,r = bipartite.sets(CostMatrix)\n",
    "    pos = dict()\n",
    "    pos.update( (nn, (1, ii)) for ii, nn in enumerate(l) ) # put nodes from X at x=1\n",
    "    pos.update( (nn, (2, ii)) for ii, nn in enumerate(r) ) # put nodes from Y at x=2\n",
    "    nx.draw(CostMatrix, pos=pos,with_labels=True)\n",
    "    #edge weights\n",
    "    labels = nx.get_edge_attributes(CostMatrix, \"weight\")\n",
    "    nx.draw_networkx_edge_labels(CostMatrix, pos=pos, edge_labels=labels)\n",
    "    print(\"edge weights\")\n",
    "    for w in labels:\n",
    "        print(f\"edge: {w} -- weight: {labels[w]}\")\n",
    "    plt.show()\n",
    "    "
   ]
  },
  {
   "cell_type": "code",
   "execution_count": 12,
   "metadata": {},
   "outputs": [],
   "source": [
    "# HungarianSolve from page 9 of detect-almost-symmetries\n",
    "# calculates the sum of the weights in the matching\n",
    "def HungarianSolve(CostMatrix):\n",
    "    cost = 0\n",
    "    deleteEdges = []\n",
    "    #\n",
    "    # draw bipartite graph\n",
    "    #\n",
    "    #plot_cost_matrix(CostMatrix)\n",
    "    \n",
    "    #\n",
    "    # Solve Cost Perfect Matching problem\n",
    "    #\n",
    "    Matching = nx.max_weight_matching(CostMatrix,maxcardinality=True)\n",
    "    #print(f\"is perfect matching: {nx.is_perfect_matching(CostMatrix,Matching)}\")\n",
    "    #print(f\"MATCHING: {Matching}\")\n",
    "    \n",
    "    #\n",
    "    # cost initialize, and ensure that weight of i - j is 0 in costMatrix\n",
    "    #\n",
    "    dummy = nx.get_node_attributes(CostMatrix,\"dummy\")\n",
    "    value = nx.get_node_attributes(CostMatrix,\"value\")\n",
    "    parent = nx.get_node_attributes(CostMatrix,\"parent\")\n",
    "    _re = list(CostMatrix.edges())[0]\n",
    "    _p1 = parent[_re[0]]\n",
    "    _v1 = value[_re[0]]\n",
    "    _p2 = parent[_re[1]]\n",
    "    _v2 = value[_re[1]]\n",
    "    #print(f\"RANDOM EDGE: {_re}, edge parents: {_p1},{_p2} \")\n",
    "    #cost = abs(nx.degree(G_A,_v1) - nx.degree(G_A,_v2))\n",
    "    #\n",
    "    # for each pair in optimal assignment, extract edges which correspond to edge deletions, and sum the cost. \n",
    "    #\n",
    "    for m in Matching:\n",
    "        i = m[0]\n",
    "        j = m[1]\n",
    "        #\n",
    "        #\n",
    "        # 'ui is dummy T/F?' XOR 'j is dummy T/F?'\n",
    "        #\n",
    "        # \"From the solution we determine when an edge {ui, xi} or {vj, xj}\n",
    "        # is in the optimal assignment. The former corresponds to the deletion of edge {i, u} in\n",
    "        # GA, the later to the deletion of edge {j, v}.\"\n",
    "        #\n",
    "        #print(\"assignment: \",m,CostMatrix[i][j]['weight'])\n",
    "        if dummy[i] ^ dummy[j]:\n",
    "            #print(f\"encoded edge: {m}\")\n",
    "            #print(f\"value dict conversion: value[i] = {value[i]}, value[j] = {value[j]}\")\n",
    "            #\n",
    "            # update cost, deleteEdges\n",
    "            # cost multiplied by -1 here.\n",
    "            deleteEdges.append((value[i],value[j]))\n",
    "        cost +=-1*CostMatrix[i][j]['weight']\n",
    "            \n",
    "    return cost,deleteEdges"
   ]
  },
  {
   "cell_type": "markdown",
   "metadata": {},
   "source": [
    "# Shared Logic Above"
   ]
  },
  {
   "cell_type": "markdown",
   "metadata": {},
   "source": [
    "# REFINEMENT 1: Refine By Matching"
   ]
  },
  {
   "cell_type": "code",
   "execution_count": 13,
   "metadata": {},
   "outputs": [],
   "source": [
    "#\n",
    "def RefineByMatching(G_A,P_A,Ef_A,k_A):\n",
    "    #\n",
    "    #possibleMappings = {}\n",
    "    edgeUse = {}\n",
    "    for e in G_A.edges():\n",
    "        #print(\"G_A edges: \",e)\n",
    "        edgeUse[e] = 0\n",
    "    EP_A = list(P_A.edges())\n",
    "    #\n",
    "    #print(\"for edge in E(P_A)\")\n",
    "    count = 0\n",
    "    for edge in EP_A:\n",
    "        i = edge[0]\n",
    "        j = edge[1]\n",
    "        #print(f\"*****************  Mapping Test : {i} --> {j}  *****************\")\n",
    "        #print(f\"G_A = {G_A.edges()}\")\n",
    "        #print(f\"P_A = {P_A.edges()}\")\n",
    "        #print(f\"Ef_A = {Ef_A.edges()}\")\n",
    "        #print(f\"k_A = {k_A}\")\n",
    "        count+=1\n",
    "        CostMatrix = BuildCostMatrix(i,j,G_A,P_A,Ef_A,k_A)\n",
    "        cost,deleteEdges = HungarianSolve(CostMatrix)\n",
    "        #print(f\"cost = {cost}\")\n",
    "        #print(f\"deleteEdge = {deleteEdges}\")\n",
    "        #print(f\" + + + count subtotal: {count}\")\n",
    "        if cost > 2*k_A:\n",
    "            #print(f\" **** **** **** Mapping {i} --> {j} proven impossible **** **** **** \")\n",
    "            #possibleMappings[edge] = \"edge removed\"\n",
    "            P_A.remove_edge(*edge)\n",
    "            #print(f\" - - - edge popped: {edge}\")\n",
    "        else:\n",
    "            #possibleMappings[edge] = deleteEdges\n",
    "            for _e in deleteEdges:\n",
    "                e = tuple(sorted(_e))\n",
    "                edgeUse[e] = edgeUse[e]+1\n",
    "    #print(edgeUse)\n",
    "    #print(f\"before: {EP_A}\")\n",
    "    #print(f\"after: {P_A.edges()}\")\n",
    "    return P_A,count"
   ]
  },
  {
   "cell_type": "markdown",
   "metadata": {},
   "source": [
    "# Algorithm 1 redraft below"
   ]
  },
  {
   "cell_type": "code",
   "execution_count": 14,
   "metadata": {},
   "outputs": [],
   "source": [
    "def Algorithm1(G,k):\n",
    "    # dummy graph\n",
    "    Ef = nx.Graph()\n",
    "    Ef.add_nodes_from(G.nodes())\n",
    "    # initial refinement via degree-diff-elim removes mappings whose degree\n",
    "    # difference renders them impossible\n",
    "    P = nx.complete_graph(G.nodes())\n",
    "    # number of edges in P (dynamic)\n",
    "    _E = len(P.edges())\n",
    "    P = DegreeDiffElim(G,P,k)\n",
    "    \n",
    "    #\n",
    "    delta = abs(_E - len(P.edges()))\n",
    "    count = 0\n",
    "    # Continue to apply RefineByMatching while P is changed\n",
    "    while delta != 0:\n",
    "        _E = len(P.edges())\n",
    "        P,subtotal = RefineByMatching(G,P,Ef,k)\n",
    "        count+=subtotal\n",
    "        delta = abs(_E - len(P.edges()))\n",
    "    \n",
    "    #\n",
    "    P_stack = list(P.edges())\n",
    "    return P,P_stack,count\n",
    "\n"
   ]
  },
  {
   "cell_type": "markdown",
   "metadata": {},
   "source": [
    "# Algo 1 redraft above"
   ]
  },
  {
   "cell_type": "markdown",
   "metadata": {},
   "source": [
    "# Algo 2 redraft below"
   ]
  },
  {
   "cell_type": "markdown",
   "metadata": {},
   "source": [
    "# Refinement 2"
   ]
  },
  {
   "cell_type": "code",
   "execution_count": 15,
   "metadata": {},
   "outputs": [],
   "source": [
    "def jim_elim_update_adjacent_bounds(i,j,G_A,Pbar,P_stack):\n",
    "    #\n",
    "    set_stack = set(P_stack)\n",
    "    Ni = set(nx.neighbors(G_A,i))\n",
    "    Nj = set(nx.neighbors(G_A,j))\n",
    "    _ee = set(it.product(Ni,Nj))\n",
    "    # NiXNj : All mapping-pairs implied by matching problem on i,j\n",
    "    #\n",
    "    # edges always sorted\n",
    "    NiXNj = set( tuple(sorted(edge)) for edge in it.product(Ni,Nj))\n",
    "    #\n",
    "    # only consider those mappings unproven in P\n",
    "    NiXNj_intersect_P = set_stack.intersection(NiXNj)\n",
    "    #\n",
    "    for l,k in NiXNj_intersect_P:\n",
    "        deg_l = G_A.degree(l)\n",
    "        deg_k = G_A.degree(k)\n",
    "        # worst case is 4, best case zero, \n",
    "        # if degreediff 0, then \n",
    "        delta_bound = max(0,4-abs(deg_l - deg_k))\n",
    "        if i in nx.neighbors(G_A,l) and j in nx.neighbors(G_A,k):\n",
    "            Pbar[(l,k)] = Pbar[(l,k)] + delta_bound\n",
    "        elif j in nx.neighbors(G_A,l) and i in nx.neighbors(G_A,k):\n",
    "            Pbar[(l,k)] = Pbar[(l,k)] + delta_bound"
   ]
  },
  {
   "cell_type": "code",
   "execution_count": 16,
   "metadata": {},
   "outputs": [],
   "source": [
    "# first pass: returns T,stack\n",
    "# T: number of mappings under budget after single pass\n",
    "# Pbar: stack of edges under budget after single pass\n",
    "def jim_elim_initialize1(G_A,Ef_A,k_A):\n",
    "    # complete graph\n",
    "    P = nx.complete_graph(G_A.nodes())\n",
    "    # weights init 0. This will be overwritten in next loop.\n",
    "    Pbar = {e:0 for e in it.combinations(G_A.nodes(),2) }\n",
    "\n",
    "    # cost perfect matching solved for every pair, and bounds updated.\n",
    "    # P is updated as well. \n",
    "    count = 0\n",
    "    for e in it.combinations(G_A.nodes(),2):\n",
    "        i = e[0]\n",
    "        j = e[1]\n",
    "        # solve matching on i,j\n",
    "        count+=1\n",
    "        CostMatrix = BuildCostMatrix(i,j,G_A,P,Ef_A,k_A)\n",
    "        cost,deleteEdges = HungarianSolve(CostMatrix)\n",
    "        if cost <= 2*k_A:\n",
    "            # assign weight to edge\n",
    "            Pbar[e] = cost\n",
    "        else:\n",
    "            # always over budget (mapping never possible) when cost computed to be overbudget\n",
    "            Pbar[e] = math.inf\n",
    "            P.remove_edge(*e)\n",
    "            # we only consider mappings unproven in P\n",
    "            jim_elim_update_adjacent_bounds(i,j,G_A,Pbar,deque(P.edges()))\n",
    "    \n",
    "    # Stack of Edges\n",
    "    P_stack = deque(P.edges())\n",
    "    # Pbar - upperbound cost of mapping (dynamic)\n",
    "    \n",
    "    # at this point we have eleminated some mappings, but the costs are dynamic\n",
    "    # so we must revisit the mappings, and recompute the costs, We want to do this\n",
    "    # in a manner which minimizes the number of times we must construct the \n",
    "    # cost matrix.\n",
    "    \n",
    "    # We will maintain 3 data structures\n",
    "    # P is a graph object representing unproven mappings\n",
    "    # P_stack is the stack of edges present in P\n",
    "    # Pbar_ij is most expensive known cost associated with ij in P. \n",
    "    # Pbar_ij = inf, indicates it is impossible\n",
    "    # We cannot use a typical adjacency matrix because zero here is\n",
    "    # zero is mapped to infinity.\n",
    "    # a weight we want to distinguish from the absence of a vertex as in P. \n",
    "    return P,P_stack,Pbar,count"
   ]
  },
  {
   "cell_type": "code",
   "execution_count": 17,
   "metadata": {},
   "outputs": [],
   "source": [
    "#  P_stack\n",
    "#  max pbar [][][].....[][][][] min pbar\n",
    "#\n",
    "#\n",
    "def sort_P_stack_by_ub(P_stack,Pbar):\n",
    "    _tmp_stack_list = list(P_stack)\n",
    "    _tmp_stack_list.sort(key=lambda e:Pbar[e],reverse=True)\n",
    "    return deque(_tmp_stack_list)"
   ]
  },
  {
   "cell_type": "code",
   "execution_count": 18,
   "metadata": {},
   "outputs": [],
   "source": [
    "def jim_elim_while1(G_A,Ef_A,k_A):\n",
    "    # initial push, to eliminate mappings in P/P_stack, \n",
    "    # and compute initial weights Pbar which are the worst-known cost of mapping edge in P\n",
    "    P,P_stack,Pbar,count_init = jim_elim_initialize1(G_A,Ef_A,k_A)\n",
    "    # track the number of times that bcm is called\n",
    "    count = count_init\n",
    "    #  P_stack:\n",
    "    #\n",
    "    #  first [][][][]...[][][] last\n",
    "    #\n",
    "    #\n",
    "    while P_stack:\n",
    "        # Unpack edge at top of stack\n",
    "        e = P_stack.popleft()\n",
    "        i =  e[0]\n",
    "        j = e[1]\n",
    "        Pbar_ij = Pbar[e]\n",
    "        #\n",
    "        \n",
    "        # see if the upperbound of cost is over budget\n",
    "        if Pbar_ij > 2*k_A:\n",
    "            #### compute matching score and update bounds + P/P_stack if budget exceeded\n",
    "            # P graph is necessary here\n",
    "            count+=1\n",
    "            CostMatrix = BuildCostMatrix(i,j,G_A,P,Ef_A,k_A)\n",
    "            true_cost, deleteEdges = HungarianSolve(CostMatrix)\n",
    "            \n",
    "            # see if true_cost is under budget\n",
    "            if true_cost <= 2*k_A:\n",
    "                # tighten bound Pbar_ij for e = (i,j)\n",
    "                Pbar[e] = true_cost\n",
    "                # return 'e' to back of stack for future potential testing\n",
    "                P_stack.append(e)\n",
    "            #\n",
    "            else:\n",
    "                # eliminate from P\n",
    "                P.remove_edge(*e)\n",
    "                # update Pbar\n",
    "                Pbar[e] = math.inf\n",
    "                # accepts Pbar as argument and stack_P (converted to set)\n",
    "                # Pbar updated as side effect.\n",
    "                jim_elim_update_adjacent_bounds(i,j,G_A,Pbar,P_stack)\n",
    "                #\n",
    "                # 'e' is not returned to stack_P\n",
    "                \n",
    "        #   \n",
    "        else:\n",
    "            #### do not compute matching score, return edge to stack\n",
    "            ##### then, reorder stack by weight, so higher \n",
    "            #### priority edges can be tested and removed (ideally) early, resulting in \n",
    "            #### fewer calls later on in program execution;\n",
    "            #### also check halting condition here\n",
    "            P_stack.appendleft(e)\n",
    "            #\n",
    "            P_stack = sort_P_stack_by_ub(P_stack,Pbar)\n",
    "            # max 'upperbound of matching score' in Pbar\n",
    "            max_Pbar_ij = Pbar[P_stack[0]]\n",
    "            if max_Pbar_ij <= 2*k_A:\n",
    "                # halt program, because the maximum worst cast cost for P is at or below \n",
    "                # budget.\n",
    "                return P,P_stack,Pbar,count\n",
    "                \n",
    "            \n",
    "            \n",
    "    "
   ]
  },
  {
   "cell_type": "code",
   "execution_count": 19,
   "metadata": {},
   "outputs": [],
   "source": [
    "def Algorithm2(G,k):\n",
    "    Ef = nx.Graph()\n",
    "    Ef.add_nodes_from(G.nodes())\n",
    "    P,P_stack,Pbar,count = jim_elim_while1(G,Ef,k)\n",
    "    return P,P_stack,Pbar,count\n",
    "    "
   ]
  },
  {
   "cell_type": "markdown",
   "metadata": {},
   "source": [
    "# Algo 2 redraft above"
   ]
  },
  {
   "cell_type": "markdown",
   "metadata": {},
   "source": [
    "# Driver "
   ]
  },
  {
   "cell_type": "code",
   "execution_count": 20,
   "metadata": {},
   "outputs": [
    {
     "name": "stderr",
     "output_type": "stream",
     "text": [
      "/Library/Frameworks/Python.framework/Versions/3.7/lib/python3.7/site-packages/networkx/drawing/nx_pylab.py:579: MatplotlibDeprecationWarning: \n",
      "The iterable function was deprecated in Matplotlib 3.1 and will be removed in 3.3. Use np.iterable instead.\n",
      "  if not cb.iterable(width):\n"
     ]
    },
    {
     "data": {
      "image/png": "[encoded data removed]",
      "text/plain": [
       "<Figure size 432x288 with 1 Axes>"
      ]
     },
     "metadata": {},
     "output_type": "display_data"
    },
    {
     "name": "stdout",
     "output_type": "stream",
     "text": [
      " # # # \n",
      "\n",
      "\n",
      " algo1 edges remaining: 119\n",
      " algo1 matchings performed: 247\n",
      "\n",
      " algo2 edges remaining 119\n",
      " algo2 matchings performed: 150 = initial 136 + loop 14\n"
     ]
    }
   ],
   "source": [
    "### init graph\n",
    "\n",
    "n = 17\n",
    "k = 3\n",
    "_noderange = range(1,n+1)\n",
    "#\n",
    "G = nx.Graph()\n",
    "Ef = nx.Graph()\n",
    "G.add_nodes_from(_noderange)\n",
    "Ef.add_nodes_from(G.nodes())\n",
    "#G.add_edges_from([(4,5),(3,2),(4,3),(5,2),(6,4),(1,5),(1,2),(2,7),(1,3)])\n",
    "ran = nx.erdos_renyi_graph(n,0.2)\n",
    "for i,j in ran.edges():\n",
    "    G.add_edges_from([(i+1,j+1)])\n",
    "\n",
    "nx.draw(G,with_labels=True,font_weight='bold')\n",
    "plt.show()\n",
    "### #### \n",
    "#\n",
    "# Algo 1\n",
    "P1,P_stack1,count1 = Algorithm1(G,k)\n",
    "#\n",
    "### ###\n",
    "#print(\"algo1 : P final \")\n",
    "#print(np.array(nx.adjacency_matrix(P1).todense()))\n",
    "#for e in P_stack1:\n",
    "#    print(e)\n",
    "\n",
    "#print(\"\\n\\n # # # # # \\n\\n\")\n",
    "\n",
    "########################################################\n",
    "\n",
    "### ###\n",
    "#\n",
    "# Algo 2\n",
    "# test initialization\n",
    "P2,P_stack2,Pbar,count_init = jim_elim_initialize1(G,Ef,k)\n",
    "#\n",
    "for e in P_stack2:\n",
    "    if Pbar[e] == math.inf:\n",
    "        raise Exception(\"Pbar or P_stack not properly constructed\")\n",
    "#\n",
    "if not len(P2.edges()) == len(P_stack2):\n",
    "    raise Exception(\"P or P_stack not properly constructed\")\n",
    "\n",
    "# test elimination loop\n",
    "P2,P_stack2,Pbar,count2 = Algorithm2(G,k)\n",
    "#print(\"algo2 : P final \")\n",
    "#print(np.array(nx.adjacency_matrix(P2).todense()))\n",
    "\n",
    "#for e1,e2 in it.zip_longest(Pbar,sorted(P_stack2)):\n",
    "#    if Pbar[e] != math.inf:\n",
    "#        print(f\"Pbar edge : weight --> {e1[0]},{e1[1]: <5}{Pbar[e1]: ^5} | P_stack {e2}\")\n",
    "\n",
    "#\n",
    "# print results\n",
    "print(\" # # # \\n\\n\")\n",
    "if not len(P1.edges()) == len(P2.edges()):\n",
    "    print(P1.edges())\n",
    "    print(P2.edges())\n",
    "    raise Exception(\"Refinement logic broken\")\n",
    "\n",
    "if not len(P1.edges()) == len(P_stack1):\n",
    "    raise Exception(\"P1 not synced with P_stack1\")\n",
    "\n",
    "print(f\" algo1 edges remaining: {len(P1.edges())}\")\n",
    "\n",
    "print(f\" algo1 matchings performed: {count1}\\n\")\n",
    "\n",
    "if not len(P2.edges()) == len(P_stack2):\n",
    "    raise Exception(\"P2 not synced with P_stack2\")\n",
    "\n",
    "print(f\" algo2 edges remaining {len(P2.edges())}\")\n",
    "\n",
    "print(f\" algo2 matchings performed: {count2} = initial {count_init} + loop {abs(count2 - count_init)}\")\n",
    "\n"
   ]
  },
  {
   "cell_type": "markdown",
   "metadata": {},
   "source": [
    "# redraft above"
   ]
  },
  {
   "cell_type": "code",
   "execution_count": null,
   "metadata": {},
   "outputs": [],
   "source": []
  },
  {
   "cell_type": "code",
   "execution_count": null,
   "metadata": {},
   "outputs": [],
   "source": []
  },
  {
   "cell_type": "code",
   "execution_count": null,
   "metadata": {},
   "outputs": [],
   "source": [
    "\n",
    "            \n",
    "    "
   ]
  },
  {
   "cell_type": "markdown",
   "metadata": {},
   "source": []
  },
  {
   "cell_type": "code",
   "execution_count": null,
   "metadata": {},
   "outputs": [],
   "source": []
  },
  {
   "cell_type": "code",
   "execution_count": null,
   "metadata": {},
   "outputs": [],
   "source": []
  },
  {
   "cell_type": "markdown",
   "metadata": {},
   "source": [
    "# Data Generation"
   ]
  },
  {
   "cell_type": "code",
   "execution_count": 21,
   "metadata": {},
   "outputs": [],
   "source": [
    "def Algorithm1_old(G,k):\n",
    "    G_A = G\n",
    "    n = len(G_A.nodes())\n",
    "    Ef_A = nx.Graph()\n",
    "    P_A = nx.complete_graph(G_A.nodes())\n",
    "    k_A = k\n",
    "\n",
    "    #nx.draw(G_A,pos=nx.circular_layout(G_A), with_labels=True, font_weight='bold')\n",
    "    #plt.show()\n",
    "    # degree diff elim\n",
    "    _e1 = len(P_A.edges())\n",
    "    print(np.matrix(nx.adjacency_matrix(P_A).todense()),\"\\n\")\n",
    "    P_A = DegreeDiffElim(G_A,P_A,k_A)\n",
    "    #nx.draw(P_A,pos=nx.circular_layout(G_A), with_labels=True, font_weight='bold')\n",
    "    plt.show()\n",
    "    #print(np.matrix(nx.adjacency_matrix(P_A).todense()),\"\\n\")\n",
    "    diff = 1\n",
    "    count = 0\n",
    "    while diff != 0:\n",
    "        _e1 = len(P_A.edges())\n",
    "        P_A,c = RefineByMatching(G_A,P_A,Ef_A,k_A)\n",
    "        #for key in a.keys():\n",
    "        #    print(key,a[key])\n",
    "        count += c\n",
    "        #print(f\" count total: {count}\")\n",
    "        diff = abs(_e1 - len(P_A.edges()))\n",
    "        print(np.matrix(nx.adjacency_matrix(P_A).todense()),\"\\n\")\n",
    "        #nx.draw(P_A,pos=nx.circular_layout(G_A), with_labels=True, font_weight='bold')\n",
    "        #plt.show()\n",
    "    #for u,v in P_A.edges():\n",
    "    #    print(\"stack: \",u,v)\n",
    "    #print(f\"# edges before {(n**2-n)/2}\")\n",
    "    #print(f\"# edges after {len(P_A.edges())}\")\n",
    "    #print(f\" count: {count}\")\n",
    "    return P_A.edges(),count\n",
    "    \n",
    "\n",
    "# # # # # # # # # # # # # # # # # # # # # # # # # # # # # # # # # # # # \n"
   ]
  },
  {
   "cell_type": "code",
   "execution_count": null,
   "metadata": {},
   "outputs": [],
   "source": [
    "\n",
    "\n",
    "\n",
    "\n"
   ]
  },
  {
   "cell_type": "markdown",
   "metadata": {},
   "source": [
    "#  - - - - - Comparison of Edges Killed - - - - - "
   ]
  },
  {
   "cell_type": "code",
   "execution_count": null,
   "metadata": {},
   "outputs": [],
   "source": [
    "\n",
    "\n"
   ]
  },
  {
   "cell_type": "markdown",
   "metadata": {},
   "source": []
  },
  {
   "cell_type": "code",
   "execution_count": null,
   "metadata": {
    "scrolled": false
   },
   "outputs": [],
   "source": []
  },
  {
   "cell_type": "code",
   "execution_count": null,
   "metadata": {},
   "outputs": [],
   "source": []
  },
  {
   "cell_type": "code",
   "execution_count": null,
   "metadata": {},
   "outputs": [],
   "source": []
  },
  {
   "cell_type": "code",
   "execution_count": null,
   "metadata": {},
   "outputs": [],
   "source": []
  }
 ],
 "metadata": {
  "kernelspec": {
   "display_name": "Python 3",
   "language": "python",
   "name": "python3"
  },
  "language_info": {
   "codemirror_mode": {
    "name": "ipython",
    "version": 3
   },
   "file_extension": ".py",
   "mimetype": "text/x-python",
   "name": "python",
   "nbconvert_exporter": "python",
   "pygments_lexer": "ipython3",
   "version": "3.7.2"
  }
 },
 "nbformat": 4,
 "nbformat_minor": 2
}
