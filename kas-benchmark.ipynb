{
 "cells": [
  {
   "cell_type": "code",
   "execution_count": 1,
   "metadata": {},
   "outputs": [],
   "source": [
    "# imports\n",
    "import math\n",
    "import itertools as it\n",
    "import networkx as nx\n",
    "from networkx.algorithms import bipartite\n",
    "import matplotlib.pyplot as plt"
   ]
  },
  {
   "cell_type": "markdown",
   "metadata": {},
   "source": [
    "# Initialize"
   ]
  },
  {
   "cell_type": "code",
   "execution_count": 2,
   "metadata": {},
   "outputs": [
    {
     "name": "stdout",
     "output_type": "stream",
     "text": [
      "True\n",
      "True\n"
     ]
    }
   ],
   "source": [
    "# set up demo graph\n",
    "n = 6\n",
    "G_A = nx.Graph()\n",
    "Ef_A = nx.Graph()\n",
    "P_A = nx.complete_graph(range(1,n+1))\n",
    "#\n",
    "G_A.add_nodes_from(range(1,n+1))\n",
    "G_A.add_edges_from(((4,5),(3,2),(4,3),(5,2),(6,4),(1,5),(1,2)))\n",
    "e1 = (5,4)\n",
    "e2 = (4,5)\n",
    "f1 = e1 in P_A.edges()\n",
    "f2 = e2 in P_A.edges()\n",
    "\n",
    "print(f1)\n",
    "print(f2)\n",
    "#P_A.remove_edge(*e)\n",
    "#f1 = e in P_A.edges()\n",
    "#print(f1)\n",
    "\n",
    "#display\n",
    "\n"
   ]
  },
  {
   "cell_type": "markdown",
   "metadata": {},
   "source": [
    "# Algorithm 1: DegreeDiffElim"
   ]
  },
  {
   "cell_type": "code",
   "execution_count": 3,
   "metadata": {},
   "outputs": [],
   "source": [
    "def DegreeDiffElim(G_A,P_A,kA):\n",
    "    edges = list(P_A.edges())\n",
    "    for e in edges:\n",
    "        if abs(G_A.degree(e[0]) - G_A.degree(e[1])) > kA:\n",
    "            P_A.remove_edge(*e)\n",
    "    return P_A"
   ]
  },
  {
   "cell_type": "markdown",
   "metadata": {},
   "source": [
    "# Algorithm 2: FixedDegElim"
   ]
  },
  {
   "cell_type": "code",
   "execution_count": 4,
   "metadata": {},
   "outputs": [],
   "source": [
    "def FixedDegElim(G_A,P_A,Ef_A):\n",
    "    edges = list(P_A.edges())\n",
    "    for e in edges:\n",
    "        if Ef_A.degree(e[0]) > G_A.degree(e[1]):\n",
    "            P_A.remove_edge(*e)\n",
    "    return P_A"
   ]
  },
  {
   "cell_type": "markdown",
   "metadata": {},
   "source": [
    "# Algorithm 3: Helper Functions"
   ]
  },
  {
   "cell_type": "code",
   "execution_count": 5,
   "metadata": {},
   "outputs": [],
   "source": [
    "# larger neighborhood should be Ni (line 6 in DKAS)\n",
    "def sortByLength(set1,set2):\n",
    "    if len(set1) == len(set2):\n",
    "        return set1, set2\n",
    "    elif len(set1) > len(set2):\n",
    "        return set1, set2\n",
    "    else:\n",
    "        return set2,set1"
   ]
  },
  {
   "cell_type": "code",
   "execution_count": 6,
   "metadata": {},
   "outputs": [],
   "source": [
    "# mostly as written in DASG paper\n",
    "# page 8, lines 10-20\n",
    "def assign_weight_k1(i,j,G_A,P_A):\n",
    "    e = (i,j)\n",
    "    if e in P_A.edges():\n",
    "        if G_A.degree(i) > G_A.degree(j):\n",
    "            return -2*(G_A.degree(i) - G_A.degree(j))\n",
    "        elif G_A.degree(j) > G_A.degree(j):\n",
    "            return -2*(G_A.degree(j) - G_A.degree(i))\n",
    "        else:\n",
    "            return -abs(G_A.degree(i) - G_A.degree(j))\n",
    "    else:\n",
    "        return -math.inf"
   ]
  },
  {
   "cell_type": "code",
   "execution_count": 7,
   "metadata": {},
   "outputs": [],
   "source": [
    "# this is for d2v and v2d\n",
    "def assign_weight_k2(neighbor,dummy_parent,Ef_A):\n",
    "    edge = (neighbor,dummy_parent)\n",
    "    if edge in Ef_A.edges():\n",
    "        return -math.inf\n",
    "    else: return -2"
   ]
  },
  {
   "cell_type": "code",
   "execution_count": 8,
   "metadata": {},
   "outputs": [],
   "source": [
    "# returns python set of integers, sorted by length\n",
    "def pair2neighborhood(g,i,j):\n",
    "    N_i = set((e for e in nx.neighbors(g,i)))\n",
    "    N_j = set((f for f in nx.neighbors(g,j)))\n",
    "    print(\"1: neighbors\")\n",
    "    print(N_i)\n",
    "    print(N_j)\n",
    "    try:\n",
    "        N_i.remove(j)\n",
    "        N_j.remove(i)\n",
    "    except(ValueError,TypeError,KeyError):\n",
    "        print(\"\")\n",
    "    Ni,Nj = sortByLength(N_i,N_j)\n",
    "    print(f\"2: remove {i} or {j}\")\n",
    "    print(Ni)\n",
    "    print(Nj)\n",
    "    #remove duplicates\n",
    "    #duplicates = Ni.intersection(Nj)\n",
    "    #for d in duplicates:\n",
    "    #    Ni.remove(d)\n",
    "    #    Nj.remove(d)\n",
    "    #print(f\"3: remove duplicates: {duplicates}\")\n",
    "    #print(Ni)\n",
    "    #print(Nj)\n",
    "    return Ni,Nj"
   ]
  },
  {
   "cell_type": "markdown",
   "metadata": {},
   "source": [
    "### Algorithm 3: Build Cost Matrix"
   ]
  },
  {
   "cell_type": "code",
   "execution_count": 9,
   "metadata": {},
   "outputs": [],
   "source": [
    "# build-cost-matrix using python set\n",
    "def BuildCostMatrix(i,j,G_A,P_A,Ef_A,k_A):\n",
    "    _Ni_int,_Nj_int = pair2neighborhood(G_A,i,j)\n",
    "# initialize    \n",
    "    CostMatrix = nx.Graph()\n",
    "    Ni = []\n",
    "    Nj = []\n",
    "    xi = []\n",
    "    xj = []\n",
    "    \n",
    "# make vertices\n",
    "    for e in _Ni_int:\n",
    "        name = \"i\" + str(e)\n",
    "        Ni.append(name)\n",
    "        CostMatrix.add_node(name,bipartite=0,dummy=False,parent=i,value=e)\n",
    "    for f in _Nj_int:\n",
    "        name = \"j\" + str(f)\n",
    "        Nj.append(name)\n",
    "        CostMatrix.add_node(name,bipartite=1,dummy=False,parent=j,value=f)\n",
    "        \n",
    "    print(f\"vertices for Ni: {Ni}\")\n",
    "    print(f\"vertices for Nj: {Nj}\")\n",
    "\n",
    "# # lines 8-9\n",
    "    degDiff = abs(G_A.degree(i) - G_A.degree(j))\n",
    "# # larger set xi goes in right partition of graph\n",
    "    for xe in range(1,degDiff+k_A+1):\n",
    "        name = \"xi\" + str(xe)\n",
    "        xi.append(name)\n",
    "        CostMatrix.add_node(name,bipartite=1,dummy=True,parent=i,value=-1)\n",
    "    for xf in range(1,k_A+1):\n",
    "        name = \"xj\" + str(xf)\n",
    "        xj.append(name)\n",
    "        CostMatrix.add_node(name,bipartite=0,dummy=True,parent=j,value=-1)\n",
    "        \n",
    "    print(f\"xi: {xi}\")\n",
    "    print(f\"xj: {xj}\")\n",
    "    \n",
    "# make edges (weights negated)\n",
    "    value = nx.get_node_attributes(CostMatrix,'value')\n",
    "    parent = nx.get_node_attributes(CostMatrix,'parent')\n",
    "# # vertex to vertex\n",
    "    V2V = []\n",
    "    for e0 in it.product(Ni,Nj):\n",
    "        weight = assign_weight_k1(value[e0[0]],value[e0[1]],G_A,P_A)\n",
    "        print(f\" vertex to vertex (Ni cross Nj): {e0} ;weight: {weight}\")\n",
    "        V2V.append((*e0,weight))\n",
    "        \n",
    "# # vertex to dummy\n",
    "    D2V = []\n",
    "# # #\"draw an edge between vj and xj\"\n",
    "    for e1 in it.product(xj,Nj):\n",
    "        weight = assign_weight_k2(value[e1[1]],parent[e1[0]],Ef_A)\n",
    "        print(f\" dummy to vertex (xj cross Nj): {e1} ;weight: {weight}\")\n",
    "        D2V.append((*e1,weight))\n",
    "    \n",
    "    V2D = []\n",
    "# # #\"draw an edge between ui and xi\"\n",
    "    for e2 in it.product(Ni,xi):\n",
    "        weight = assign_weight_k2(value[e2[0]],parent[e2[1]],Ef_A)\n",
    "        print(f\" vertex to dummy (Ni cross xi): {e2} ;weight: {weight}\")\n",
    "        D2V.append((*e2,weight))\n",
    "\n",
    "# # dummy to dummy\n",
    "    D2D = []\n",
    "    for e3 in it.product(xj,xi):\n",
    "        print(f\"dummy to dummy {e3}\")\n",
    "        D2D.append((*e3,0))\n",
    "\n",
    "# add weighted edges\n",
    "    CostMatrix.add_weighted_edges_from(V2V)\n",
    "    CostMatrix.add_weighted_edges_from(D2V)\n",
    "    CostMatrix.add_weighted_edges_from(V2D)\n",
    "    CostMatrix.add_weighted_edges_from(D2D)\n",
    "# display\n",
    "    l,r = bipartite.sets(CostMatrix)\n",
    "    print(f\"bipartite.sets left set {l}\")\n",
    "    print(f\"bipartite.sets right set {r}\")\n",
    "    return CostMatrix "
   ]
  },
  {
   "cell_type": "markdown",
   "metadata": {},
   "source": [
    "# HungarianSolve: find cost perfect matching"
   ]
  },
  {
   "cell_type": "code",
   "execution_count": 10,
   "metadata": {},
   "outputs": [],
   "source": [
    "# hungarian solve from page 9 of detect almost symmetries\n",
    "# calculates the sum of the weights in the matching\n",
    "def HungarianSolve(CostMatrix):\n",
    "    Matching = nx.max_weight_matching(CostMatrix,maxcardinality=True)\n",
    "    print(\"is perfect matching: \",nx.is_perfect_matching(CostMatrix,Matching))\n",
    "    cost = 0\n",
    "    deleteEdges = []\n",
    "    # cost multiplied by negative -1\n",
    "    dummy = nx.get_node_attributes(CostMatrix,\"dummy\")\n",
    "    for m in Matching:\n",
    "        i = m[0]\n",
    "        j = m[1]\n",
    "        #\n",
    "        #\n",
    "        # 'ui is dummy T/F?' XOR 'j is dummy T/F?'\n",
    "        #\n",
    "        # \"From the solution we determine when an edge {ui, xi} or {vj, xj}\n",
    "        # is in the optimal assignment. The former corresponds to the deletion of edge {i, u} in\n",
    "        # GA, the later to the deletion of edge {j, v}.\"\n",
    "        #\n",
    "        if dummy[i] ^ dummy[j]:\n",
    "            print(\"del edge\")\n",
    "            deleteEdges.append(m)\n",
    "            cost +=-1*CostMatrix[i][j]['weight']\n",
    "        print(f\"weight: {CostMatrix[i][j]}, edge: {i},{j}\")\n",
    "        # \n",
    "    return cost,deleteEdges"
   ]
  },
  {
   "cell_type": "markdown",
   "metadata": {},
   "source": [
    "# Refine By Matching"
   ]
  },
  {
   "cell_type": "code",
   "execution_count": 12,
   "metadata": {},
   "outputs": [],
   "source": [
    "#"
   ]
  },
  {
   "cell_type": "markdown",
   "metadata": {},
   "source": [
    "# Driver"
   ]
  },
  {
   "cell_type": "code",
   "execution_count": 11,
   "metadata": {},
   "outputs": [
    {
     "name": "stderr",
     "output_type": "stream",
     "text": [
      "/Library/Frameworks/Python.framework/Versions/3.7/lib/python3.7/site-packages/networkx/drawing/nx_pylab.py:579: MatplotlibDeprecationWarning: \n",
      "The iterable function was deprecated in Matplotlib 3.1 and will be removed in 3.3. Use np.iterable instead.\n",
      "  if not cb.iterable(width):\n"
     ]
    },
    {
     "data": {
      "image/png": "[encoded data removed]",
      "text/plain": [
       "<Figure size 432x288 with 1 Axes>"
      ]
     },
     "metadata": {},
     "output_type": "display_data"
    },
    {
     "name": "stdout",
     "output_type": "stream",
     "text": [
      "0: i,j = 2,5\n",
      "1: neighbors\n",
      "{1, 3, 5}\n",
      "{1, 2, 4}\n",
      "2: remove 2 or 5\n",
      "{1, 3}\n",
      "{1, 4}\n",
      "vertices for Ni: ['i1', 'i3']\n",
      "vertices for Nj: ['j1', 'j4']\n",
      "xi: ['xi1']\n",
      "xj: ['xj1']\n",
      " vertex to vertex (Ni cross Nj): ('i1', 'j1') ;weight: -inf\n",
      " vertex to vertex (Ni cross Nj): ('i1', 'j4') ;weight: -1\n",
      " vertex to vertex (Ni cross Nj): ('i3', 'j1') ;weight: 0\n",
      " vertex to vertex (Ni cross Nj): ('i3', 'j4') ;weight: -1\n",
      " dummy to vertex (xj cross Nj): ('xj1', 'j1') ;weight: -2\n",
      " dummy to vertex (xj cross Nj): ('xj1', 'j4') ;weight: -2\n",
      " vertex to dummy (Ni cross xi): ('i1', 'xi1') ;weight: -2\n",
      " vertex to dummy (Ni cross xi): ('i3', 'xi1') ;weight: -2\n",
      "dummy to dummy ('xj1', 'xi1')\n",
      "bipartite.sets left set {'i1', 'i3', 'xj1'}\n",
      "bipartite.sets right set {'j1', 'j4', 'xi1'}\n",
      "!! HungarianSolve output\n",
      "is perfect matching:  True\n",
      "weight: {'weight': -1}, edge: i1,j4\n",
      "weight: {'weight': 0}, edge: j1,i3\n",
      "weight: {'weight': 0}, edge: xj1,xi1\n",
      "cost:  0\n",
      "Matching:  []\n",
      "!! HungarianSolve output above\n"
     ]
    },
    {
     "data": {
      "image/png": "[encoded data removed]",
      "text/plain": [
       "<Figure size 432x288 with 1 Axes>"
      ]
     },
     "metadata": {},
     "output_type": "display_data"
    }
   ],
   "source": [
    "nx.draw(G_A, with_labels=True, font_weight='bold')\n",
    "plt.show()\n",
    "#initialize\n",
    "k_A = 1\n",
    "i = 2\n",
    "j = 5\n",
    "print(f\"0: i,j = {i},{j}\")\n",
    "cost_fixed = abs(G_A.degree(i) - G_A.degree(j))\n",
    "p_a = DegreeDiffElim(G_A,P_A,k_A)\n",
    "cm = BuildCostMatrix(i,j,G_A,p_a,Ef_A,k_A)\n",
    "# compute matching\n",
    "print(\"!! HungarianSolve output\")\n",
    "cost, deleteEdges = HungarianSolve(cm)\n",
    "print(\"cost: \",cost)\n",
    "print(\"Matching: \",deleteEdges)\n",
    "print(\"!! HungarianSolve output above\")\n",
    "l, r = bipartite.sets(cm)\n",
    "pos = dict()\n",
    "pos.update( (nn, (1, ii+ len(l)/2)) for ii, nn in enumerate(l) ) # put nodes from X at x=1\n",
    "pos.update( (nn, (2, n*ii)) for ii, nn in enumerate(r) ) # put nodes from Y at x=2\n",
    "nx.draw(cm, pos=pos,with_labels=True)\n",
    "\n",
    "#edge weights\n",
    "labels = nx.get_edge_attributes(cm, \"weight\")\n",
    "nx.draw_networkx_edge_labels(cm, pos=pos, edge_labels=labels)\n",
    "plt.show()"
   ]
  },
  {
   "cell_type": "code",
   "execution_count": null,
   "metadata": {},
   "outputs": [],
   "source": []
  },
  {
   "cell_type": "code",
   "execution_count": null,
   "metadata": {},
   "outputs": [],
   "source": []
  }
 ],
 "metadata": {
  "kernelspec": {
   "display_name": "Python 3",
   "language": "python",
   "name": "python3"
  },
  "language_info": {
   "codemirror_mode": {
    "name": "ipython",
    "version": 3
   },
   "file_extension": ".py",
   "mimetype": "text/x-python",
   "name": "python",
   "nbconvert_exporter": "python",
   "pygments_lexer": "ipython3",
   "version": "3.7.2"
  }
 },
 "nbformat": 4,
 "nbformat_minor": 2
}
