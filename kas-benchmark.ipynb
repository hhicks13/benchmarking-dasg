{
 "cells": [
  {
   "cell_type": "code",
   "execution_count": 25,
   "metadata": {},
   "outputs": [],
   "source": [
    "# imports\n",
    "import collections\n",
    "import math\n",
    "import numpy as np\n",
    "import itertools as it\n",
    "import networkx as nx\n",
    "from networkx.algorithms import bipartite\n",
    "from collections import deque\n",
    "import matplotlib.pyplot as plt"
   ]
  },
  {
   "cell_type": "markdown",
   "metadata": {},
   "source": [
    "# Initialize"
   ]
  },
  {
   "cell_type": "code",
   "execution_count": 2,
   "metadata": {},
   "outputs": [
    {
     "name": "stdout",
     "output_type": "stream",
     "text": [
      "[1, 2, 3, 4, 5, 6]\n"
     ]
    },
    {
     "name": "stderr",
     "output_type": "stream",
     "text": [
      "/Library/Frameworks/Python.framework/Versions/3.7/lib/python3.7/site-packages/networkx/drawing/nx_pylab.py:579: MatplotlibDeprecationWarning: \n",
      "The iterable function was deprecated in Matplotlib 3.1 and will be removed in 3.3. Use np.iterable instead.\n",
      "  if not cb.iterable(width):\n"
     ]
    },
    {
     "data": {
      "image/png": "[encoded data removed]",
      "text/plain": [
       "<Figure size 432x288 with 1 Axes>"
      ]
     },
     "metadata": {},
     "output_type": "display_data"
    }
   ],
   "source": [
    "# set up demo graph\n",
    "n = 6\n",
    "_noderange = range(1,n+1)\n",
    "G_A = nx.Graph()\n",
    "Ef_A = nx.Graph()\n",
    "P_A = nx.complete_graph(_noderange)\n",
    "\n",
    "#\n",
    "G_A.add_nodes_from(_noderange)\n",
    "Ef_A.add_nodes_from(_noderange)\n",
    "print(G_A.nodes)\n",
    "G_A.add_edges_from(((4,5),(3,2),(4,3),(5,2),(6,4),(1,5),(1,2)))\n",
    "\n",
    "\n",
    "\n",
    "nx.draw(G_A,with_labels=True,font_weight='bold')\n",
    "#e1 = (5,4)\n",
    "#e2 = (4,5)\n",
    "#f1 = e1 in P_A.edges()\n",
    "#f2 = e2 in P_A.edges()\n",
    "#random = nx.erdos_renyi_graph(n,0.07)\n",
    "#G_A.add_nodes_from(( node + 1 for node in random.nodes()))\n",
    "#G_A.add_edges_from(( (edge[0]+1,edge[1]+1) for edge in random.edges()))\n",
    "\n",
    "#print(G_A.nodes)\n",
    "#print(G_A.edges)\n",
    "\n",
    "#P_A.remove_edge(*e)\n",
    "#f1 = e in P_A.edges()\n",
    "#print(f1)\n",
    "\n",
    "#display\n",
    "\n"
   ]
  },
  {
   "cell_type": "markdown",
   "metadata": {},
   "source": [
    "# Algorithm 1: DegreeDiffElim"
   ]
  },
  {
   "cell_type": "code",
   "execution_count": 3,
   "metadata": {},
   "outputs": [],
   "source": [
    "def DegreeDiffElim(G_A,P_A,kA):\n",
    "    edges = list(P_A.edges())\n",
    "    for e in edges:\n",
    "        if abs(G_A.degree(e[0]) - G_A.degree(e[1])) > kA:\n",
    "            P_A.remove_edge(*e)\n",
    "    return P_A"
   ]
  },
  {
   "cell_type": "markdown",
   "metadata": {},
   "source": [
    "# Algorithm 2: FixedDegElim"
   ]
  },
  {
   "cell_type": "code",
   "execution_count": 4,
   "metadata": {},
   "outputs": [],
   "source": [
    "def FixedDegElim(G_A,P_A,Ef_A):\n",
    "    edges = list(P_A.edges())\n",
    "    for e in edges:\n",
    "        if Ef_A.degree(e[0]) > G_A.degree(e[1]):\n",
    "            P_A.remove_edge(*e)\n",
    "    return P_A"
   ]
  },
  {
   "cell_type": "markdown",
   "metadata": {},
   "source": [
    "# Algorithm 3: Helper Functions"
   ]
  },
  {
   "cell_type": "code",
   "execution_count": 5,
   "metadata": {},
   "outputs": [],
   "source": [
    "def print_independence(v,i,j,G_A):\n",
    "    edge,Ni,Nj = pair2neighborhood(G_A,1,2)\n",
    "    _i = edge[0]\n",
    "    _j = edge[1]\n",
    "    print(Ni)\n",
    "    print(f\"Neighborhood of {_i} is {Ni}\")\n",
    "    for _ni in nx.neighbors(G_A,_i):\n",
    "        print(_ni)\n",
    "    print(f\"Neighborhood of {_j} is {Nj}\")\n",
    "    for _nj in nx.neighbors(G_A,_j):\n",
    "        print(_nj)\n",
    "    print(\"------\")\n",
    "    niUnj = Ni | Nj\n",
    "    for _e in niUnj:print(_e)\n",
    "\n",
    "    print(f\"Ni union Nj: {niUnj}\")\n",
    "    Nv = set(nx.neighbors(G_A,v))\n",
    "    print(f\"Neighborhood of v: {Nv}\")\n",
    "    _intersection = niUnj.intersection(Nv) \n",
    "    print(f\"Intersection of Nv and Ni U Nj: {_intersection}\")\n",
    "    print(_intersection)"
   ]
  },
  {
   "cell_type": "code",
   "execution_count": 6,
   "metadata": {},
   "outputs": [],
   "source": [
    "# check independence \n",
    "#\n",
    "def vertex_independent_from(v,i,j,G_A):\n",
    "    edge,Ni,Nj = pair2neighborhood(G_A,i,j)\n",
    "    _i = edge[0]\n",
    "    _j = edge[1]\n",
    "    #print(Ni)\n",
    "    #print(f\"Neighborhood of {_i} is {Ni}\")\n",
    "    #for _ni in nx.neighbors(G_A,_i):\n",
    "        #print(_ni)\n",
    "    #print(f\"Neighborhood of {_j} is {Nj}\")\n",
    "    #for _nj in nx.neighbors(G_A,_j):\n",
    "        #print(_nj)\n",
    "\n",
    "    #print(\"------\")\n",
    "    niUnj = Ni | Nj\n",
    "    #for _e in niUnj:print(_e)\n",
    "\n",
    "    #print(f\"Ni union Nj: {niUnj}\")\n",
    "    Nv = set(nx.neighbors(G_A,v))\n",
    "    #print(f\"Neighborhood of v: {Nv}\")\n",
    "    _intersection = niUnj.intersection(Nv) \n",
    "    #print(f\"Intersection of Nv and Ni U Nj: {_intersection}\")\n",
    "    #print(_intersection)\n",
    "    return not bool(_intersection)"
   ]
  },
  {
   "cell_type": "code",
   "execution_count": 7,
   "metadata": {},
   "outputs": [],
   "source": [
    "# larger neighborhood should be Ni (line 6 in DKAS)\n",
    "# larger neighborhood should be on left\n",
    "def sortByLength(set1,set2):\n",
    "    if len(set1) == len(set2):\n",
    "        return set1, set2\n",
    "    elif len(set1) > len(set2):\n",
    "        return set1, set2\n",
    "    else:\n",
    "        return set2,set1"
   ]
  },
  {
   "cell_type": "code",
   "execution_count": 8,
   "metadata": {},
   "outputs": [],
   "source": [
    "# mostly as written in DASG paper\n",
    "# page 8, lines 10-20\n",
    "#\n",
    "#\n",
    "# cost in terms of 'degrees decremented / half-edges removed'\n",
    "def assign_weight_k1(e,i,j,G_A,P_A,k_A):\n",
    "    u = e[0]\n",
    "    v = e[1]\n",
    "    # mapping to self has 0 cost\n",
    "    if u == v:\n",
    "        return 0\n",
    "    #print(\"assigning weight\",e)\n",
    "    \n",
    "    \n",
    "    degu = G_A.degree(u)\n",
    "    degv = G_A.degree(v)\n",
    "    \n",
    "    # elif because only one neighborhood is being decremented.\n",
    "    if u in (i,j):\n",
    "        degu = max(degu - k_A,0)\n",
    "    elif v in (i,j):\n",
    "        degv = max(degv - k_A,0)\n",
    "    # if mapping being tested coincides with edge. \n",
    "    if e == (i,j) or e == (j,i):\n",
    "        #print(f\"edge {e} being weighted is mapping {i},{j} being tested\")\n",
    "        return 0\n",
    "    \n",
    "    if (u,v) in P_A.edges() or (v,u) in P_A.edges():\n",
    "        #print(f\"{e} in {P_A.edges()}?\")\n",
    "        #cost tightened here\n",
    "        if degu > degv and vertex_independent_from(u,i,j,G_A):\n",
    "            #print(f\"{e} satisfies FIRST 1 clause!!!!!!!!!!!!!!!!!!!!!!!!!!!!!!!!!!!!!!!!!!!\")\n",
    "            return -2*(degu - degv)\n",
    "        elif degv > degu and vertex_independent_from(v,i,j,G_A):\n",
    "            #print(f\"{e} satisfies SECOND 2 clause!!!!!!!!!!!!!!!!!!!!!!!!!!!!!!!!!!!!!!!!!!\")\n",
    "            return -2*(degv - degu)\n",
    "        else:\n",
    "            #print(f\"{e} satisfies THIRD 3 clause\")\n",
    "            return -abs(degu - degv)\n",
    "    else:\n",
    "        return -math.inf"
   ]
  },
  {
   "cell_type": "code",
   "execution_count": 9,
   "metadata": {},
   "outputs": [],
   "source": [
    "# this is for d2v and v2d\n",
    "def assign_weight_k2(neighbor,dummy_parent,Ef_A):\n",
    "    edge = (neighbor,dummy_parent)\n",
    "    if edge in Ef_A.edges():\n",
    "        return -math.inf\n",
    "    else: return -2"
   ]
  },
  {
   "cell_type": "code",
   "execution_count": 10,
   "metadata": {},
   "outputs": [],
   "source": [
    "# returns python set of integers, sorted by length\n",
    "def pair2neighborhood(g,i,j):\n",
    "    N_i = set((e for e in nx.neighbors(g,i)))\n",
    "    N_j = set((f for f in nx.neighbors(g,j)))\n",
    "    #print(\"1: neighbors\")\n",
    "    #print(N_i)\n",
    "    #print(N_j)\n",
    "    #eliminate_this_logic!!!!!!!!!!!!!!!!\n",
    "    #try:\n",
    "    #    N_i.remove(j)\n",
    "    #    N_j.remove(i)\n",
    "    #except(ValueError,TypeError,KeyError):\n",
    "    #    print(\"\")\n",
    "    Ni,Nj = sortByLength(N_i,N_j)\n",
    "    if g.degree(i) < g.degree(j):\n",
    "        _i = j\n",
    "        _j = i\n",
    "    else:\n",
    "        # no exchange\n",
    "        _i = i\n",
    "        _j = j\n",
    "    #print(f\"2: remove {i} or {j}\")\n",
    "    #print(Ni)\n",
    "    #print(Nj)\n",
    "    #remove duplicates\n",
    "    #duplicates = Ni.intersection(Nj)\n",
    "    #for d in duplicates:\n",
    "    #    Ni.remove(d)\n",
    "    #    Nj.remove(d)\n",
    "    #print(f\"3: remove duplicates: {duplicates}\")\n",
    "    #print(Ni)\n",
    "    #print(Nj)\n",
    "    edge = (_i,_j)\n",
    "    return edge, Ni,Nj"
   ]
  },
  {
   "cell_type": "markdown",
   "metadata": {},
   "source": [
    "### Algorithm 3: Build Cost Matrix"
   ]
  },
  {
   "cell_type": "code",
   "execution_count": 11,
   "metadata": {},
   "outputs": [],
   "source": [
    "# build-cost-matrix using python set\n",
    "def BuildCostMatrix(i,j,G_A,P_A,Ef_A,k_A):\n",
    "    _edge, _Ni_int,_Nj_int = pair2neighborhood(G_A,i,j)\n",
    "# initialize    \n",
    "    CostMatrix = nx.Graph()\n",
    "    degDiff = abs(G_A.degree(i) - G_A.degree(j))\n",
    "    Ni = []\n",
    "    Nj = []\n",
    "    xi = []\n",
    "    xj = []\n",
    "    _i = _edge[0]\n",
    "    _j = _edge[1]\n",
    "    # swap j and i in order to consistently refer to larger set on left\n",
    "    if G_A.degree(i) < G_A.degree(j):\n",
    "        _i = j\n",
    "        _j = i\n",
    "    else:\n",
    "        # no exchange\n",
    "        _i = i\n",
    "        _j = j\n",
    "    \n",
    "    \n",
    "# make vertices\n",
    "##\n",
    "## dummy: used for edge deletion\n",
    "## parent: used in weight assignment logic\n",
    "## value: used in updating permutation graph\n",
    "##\n",
    "    for e in _Ni_int:\n",
    "        name = \"i\" + str(e)\n",
    "        Ni.append(name)\n",
    "        CostMatrix.add_node(name,bipartite=0,dummy=False,parent=_i,value=e)\n",
    "    for f in _Nj_int:\n",
    "        name = \"j\" + str(f)\n",
    "        Nj.append(name)\n",
    "        CostMatrix.add_node(name,bipartite=1,dummy=False,parent=_j,value=f)\n",
    "        \n",
    "    #print(f\"vertices for Ni: {Ni}\")\n",
    "    #print(f\"vertices for Nj: {Nj}\")\n",
    "    \n",
    "# # larger set xi goes in right partition of graph as indicated by 'bipartite' parameter\n",
    "    for xe in range(1,degDiff+k_A):\n",
    "        name = \"xi\" + str(xe)\n",
    "        xi.append(name)\n",
    "        CostMatrix.add_node(name,bipartite=1,dummy=True,parent=_i,value=_i)\n",
    "    for xf in range(1,k_A):\n",
    "        name = \"xj\" + str(xf)\n",
    "        xj.append(name)\n",
    "        CostMatrix.add_node(name,bipartite=0,dummy=True,parent=_j,value=_j)\n",
    "        \n",
    "    #print(f\"xi: {xi}\")\n",
    "    #print(f\"xj: {xj}\")\n",
    "    \n",
    "# make edges (weights negated)\n",
    "    value = nx.get_node_attributes(CostMatrix,'value') # used for permutation graph update\n",
    "    parent = nx.get_node_attributes(CostMatrix,'parent') # used for weight assignment\n",
    "# # vertex to vertex\n",
    "    V2V = []\n",
    "    for e0 in it.product(Ni,Nj):\n",
    "        _edge0 = (value[e0[0]],value[e0[1]])\n",
    "        weight = assign_weight_k1(_edge0,i,j,G_A,P_A,k_A)\n",
    "        #print(f\" {_edge0} assigned weight: {weight} \")\n",
    "            \n",
    "        #print(f\" vertex to vertex (Ni cross Nj): {e0} ;weight: {weight}\")\n",
    "        V2V.append((*e0,weight))\n",
    "        \n",
    "# # vertex to dummy\n",
    "    D2V = []\n",
    "# # #\"draw an edge between vj and xj\"\n",
    "    for e1 in it.product(xj,Nj):\n",
    "        weight = assign_weight_k2(value[e1[1]],parent[e1[0]],Ef_A)\n",
    "        #print(f\" dummy to vertex (xj cross Nj): {e1} ;weight: {weight}\")\n",
    "        D2V.append((*e1,weight))\n",
    "    \n",
    "    V2D = []\n",
    "# # #\"draw an edge between ui and xi\"\n",
    "    for e2 in it.product(Ni,xi):\n",
    "        weight = assign_weight_k2(value[e2[0]],parent[e2[1]],Ef_A)\n",
    "        #print(f\" vertex to dummy (Ni cross xi): {e2} ;weight: {weight}\")\n",
    "        D2V.append((*e2,weight))\n",
    "\n",
    "# # dummy to dummy\n",
    "    D2D = []\n",
    "    for e3 in it.product(xj,xi):\n",
    "        #print(f\"dummy to dummy {e3}\")\n",
    "        D2D.append((*e3,0))\n",
    "\n",
    "# add weighted edges\n",
    "    CostMatrix.add_weighted_edges_from(V2V)\n",
    "    CostMatrix.add_weighted_edges_from(D2V)\n",
    "    CostMatrix.add_weighted_edges_from(V2D)\n",
    "    CostMatrix.add_weighted_edges_from(D2D)\n",
    "# display\n",
    "    #l,r = bipartite.sets(CostMatrix)\n",
    "    #print(f\"bipartite.sets left set {l}\")\n",
    "    #print(f\"bipartite.sets right set {r}\")\n",
    "    return CostMatrix "
   ]
  },
  {
   "cell_type": "markdown",
   "metadata": {},
   "source": [
    "# HungarianSolve: find cost perfect matching"
   ]
  },
  {
   "cell_type": "code",
   "execution_count": 12,
   "metadata": {},
   "outputs": [],
   "source": [
    "# \n",
    "# draw bipartite graph\n",
    "#\n",
    "def plot_cost_matrix(CostMatrix):\n",
    "    l,r = bipartite.sets(CostMatrix)\n",
    "    pos = dict()\n",
    "    pos.update( (nn, (1, ii)) for ii, nn in enumerate(l) ) # put nodes from X at x=1\n",
    "    pos.update( (nn, (2, ii)) for ii, nn in enumerate(r) ) # put nodes from Y at x=2\n",
    "    nx.draw(CostMatrix, pos=pos,with_labels=True)\n",
    "    #edge weights\n",
    "    labels = nx.get_edge_attributes(CostMatrix, \"weight\")\n",
    "    nx.draw_networkx_edge_labels(CostMatrix, pos=pos, edge_labels=labels)\n",
    "    print(\"edge weights\")\n",
    "    for w in labels:\n",
    "        print(f\"edge: {w} -- weight: {labels[w]}\")\n",
    "    plt.show()\n",
    "    "
   ]
  },
  {
   "cell_type": "code",
   "execution_count": 13,
   "metadata": {},
   "outputs": [],
   "source": [
    "# HungarianSolve from page 9 of detect-almost-symmetries\n",
    "# calculates the sum of the weights in the matching\n",
    "def HungarianSolve(CostMatrix):\n",
    "    cost = 0\n",
    "    deleteEdges = []\n",
    "    #\n",
    "    # draw bipartite graph\n",
    "    #\n",
    "    #plot_cost_matrix(CostMatrix)\n",
    "    \n",
    "    #\n",
    "    # Solve Cost Perfect Matching problem\n",
    "    #\n",
    "    Matching = nx.max_weight_matching(CostMatrix,maxcardinality=True)\n",
    "    #print(f\"is perfect matching: {nx.is_perfect_matching(CostMatrix,Matching)}\")\n",
    "    #print(f\"MATCHING: {Matching}\")\n",
    "    \n",
    "    #\n",
    "    # cost initialize, and ensure that weight of i - j is 0 in costMatrix\n",
    "    #\n",
    "    dummy = nx.get_node_attributes(CostMatrix,\"dummy\")\n",
    "    value = nx.get_node_attributes(CostMatrix,\"value\")\n",
    "    parent = nx.get_node_attributes(CostMatrix,\"parent\")\n",
    "    _re = list(CostMatrix.edges())[0]\n",
    "    _p1 = parent[_re[0]]\n",
    "    _v1 = value[_re[0]]\n",
    "    _p2 = parent[_re[1]]\n",
    "    _v2 = value[_re[1]]\n",
    "    #print(f\"RANDOM EDGE: {_re}, edge parents: {_p1},{_p2} \")\n",
    "    #cost = abs(nx.degree(G_A,_v1) - nx.degree(G_A,_v2))\n",
    "    #\n",
    "    # for each pair in optimal assignment, extract edges which correspond to edge deletions, and sum the cost. \n",
    "    #\n",
    "    for m in Matching:\n",
    "        i = m[0]\n",
    "        j = m[1]\n",
    "        #\n",
    "        #\n",
    "        # 'ui is dummy T/F?' XOR 'j is dummy T/F?'\n",
    "        #\n",
    "        # \"From the solution we determine when an edge {ui, xi} or {vj, xj}\n",
    "        # is in the optimal assignment. The former corresponds to the deletion of edge {i, u} in\n",
    "        # GA, the later to the deletion of edge {j, v}.\"\n",
    "        #\n",
    "        #print(\"assignment: \",m,CostMatrix[i][j]['weight'])\n",
    "        if dummy[i] ^ dummy[j]:\n",
    "            #print(f\"encoded edge: {m}\")\n",
    "            #print(f\"value dict conversion: value[i] = {value[i]}, value[j] = {value[j]}\")\n",
    "            #\n",
    "            # update cost, deleteEdges\n",
    "            # cost multiplied by -1 here.\n",
    "            deleteEdges.append((value[i],value[j]))\n",
    "        cost +=-1*CostMatrix[i][j]['weight']\n",
    "            \n",
    "    return cost,deleteEdges"
   ]
  },
  {
   "cell_type": "markdown",
   "metadata": {},
   "source": [
    "# REFINEMENT 1: Refine By Matching"
   ]
  },
  {
   "cell_type": "code",
   "execution_count": 14,
   "metadata": {},
   "outputs": [],
   "source": [
    "#\n",
    "def RefineByMatching(G_A,P_A,Ef_A,k_A):\n",
    "    #\n",
    "    possibleMappings = {}\n",
    "    edgeUse = {}\n",
    "    for e in G_A.edges():\n",
    "        #print(\"G_A edges: \",e)\n",
    "        edgeUse[e] = 0\n",
    "    EP_A = list(P_A.edges())\n",
    "    #\n",
    "    #print(\"for edge in E(P_A)\")\n",
    "    for edge in EP_A:\n",
    "        i = edge[0]\n",
    "        j = edge[1]\n",
    "        #print(f\"*****************  Mapping Test : {i} --> {j}  *****************\")\n",
    "        #print(f\"G_A = {G_A.edges()}\")\n",
    "        #print(f\"P_A = {P_A.edges()}\")\n",
    "        #print(f\"Ef_A = {Ef_A.edges()}\")\n",
    "        #print(f\"k_A = {k_A}\")\n",
    "        CostMatrix = BuildCostMatrix(i,j,G_A,P_A,Ef_A,k_A)\n",
    "        cost,deleteEdges = HungarianSolve(CostMatrix)\n",
    "        #print(f\"cost = {cost}\")\n",
    "        #print(f\"deleteEdge = {deleteEdges}\")\n",
    "        if cost > 2*k_A:\n",
    "            #print(f\" **** **** **** Mapping {i} --> {j} proven impossible **** **** **** \")\n",
    "            P_A.remove_edge(*edge)\n",
    "        else:\n",
    "            possibleMappings[edge] = deleteEdges\n",
    "            for _e in deleteEdges:\n",
    "                e = tuple(sorted(_e))\n",
    "                edgeUse[e] = edgeUse[e]+1\n",
    "    #print(edgeUse)\n",
    "    #print(f\"before: {EP_A}\")\n",
    "    #print(f\"after: {P_A.edges()}\")\n",
    "    return possibleMappings"
   ]
  },
  {
   "cell_type": "markdown",
   "metadata": {},
   "source": [
    "# REFINEMENT 2: \"Jim Elim\""
   ]
  },
  {
   "cell_type": "code",
   "execution_count": 46,
   "metadata": {},
   "outputs": [],
   "source": [
    "#  make the output the same for each. \n",
    "#  for all pairs (i,j) solve matching in ij.\n",
    "def _solve_matching(G_A,Ef_A,k_A):\n",
    "    _K = nx.complete_graph(G_A.nodes())\n",
    "    Rho = nx.Graph()\n",
    "    Rho.add_nodes_from(G_A.nodes())\n",
    "    print(Rho.nodes())\n",
    "    _rho_edges = []\n",
    "    for pair in it.combinations(Rho.nodes(),2):\n",
    "        i = pair[0]\n",
    "        j = pair[1]\n",
    "        CostMatrix = BuildCostMatrix(i,j,G_A,_K,Ef_A,k_A)\n",
    "        cost,deleteEdges = HungarianSolve(CostMatrix)\n",
    "        _rho_edges.append(((i,j,cost)))\n",
    "    #\n",
    "    #\n",
    "    Rho.add_weighted_edges_from(_rho_edges)\n",
    "    weights = nx.get_edge_attributes(Rho,\"weight\")\n",
    "    #\n",
    "    #\n",
    "    return weights,Rho"
   ]
  },
  {
   "cell_type": "code",
   "execution_count": 80,
   "metadata": {},
   "outputs": [],
   "source": [
    "# side effect used here\n",
    "#\n",
    "# can be substantially reduced\n",
    "#\n",
    "def _update_neighboring_ub(i,j,Rho):\n",
    "    _edges = Rho.edges()\n",
    "    for k in Rho.nodes():\n",
    "            if i != k :\n",
    "                if ((i,k) in _edges or (k,i) in _edges):Rho[i][k]['weight']+=2\n",
    "            if j != k:\n",
    "                if ((j,k) in _edges or (k,j) in _edges):Rho[k][j]['weight']+=2"
   ]
  },
  {
   "cell_type": "code",
   "execution_count": 81,
   "metadata": {},
   "outputs": [],
   "source": [
    "# first pass: returns T,stack\n",
    "# T: number of mappings under budget after single pass\n",
    "# stack: stack of edges under budget after single pass\n",
    "def _initialize(Rho):\n",
    "    #\n",
    "    T = len(Rho.edges())\n",
    "    stack = {e:e for e in Rho.edges()}\n",
    "    #\n",
    "    for i,j in it.combinations(Rho.nodes(),2):\n",
    "        e = (i,j)\n",
    "        cost = Rho[i][j]['weight']\n",
    "        if cost <= 2*k_A:\n",
    "            continue\n",
    "        else:\n",
    "            # side effect: update graph object \n",
    "            Rho[i][j]['weight'] = math.inf\n",
    "            _update_neighboring_ub(i,j,Rho)\n",
    "            #\n",
    "            # will reduce search space later.\n",
    "            #Rho.remove_edge(*e)\n",
    "            #\n",
    "            #\n",
    "            #\n",
    "            #\n",
    "            # return val: remove edge from stack, decrement T\n",
    "            stack.pop(e)\n",
    "            T -=1\n",
    "    # put the edges in a stack\n",
    "    stack = collections.deque(stack.keys())\n",
    "    return T,stack"
   ]
  },
  {
   "cell_type": "code",
   "execution_count": null,
   "metadata": {},
   "outputs": [],
   "source": []
  },
  {
   "cell_type": "code",
   "execution_count": null,
   "metadata": {},
   "outputs": [],
   "source": []
  },
  {
   "cell_type": "code",
   "execution_count": 75,
   "metadata": {},
   "outputs": [],
   "source": [
    "def _mat(Rho):\n",
    "    return np.matrix(nx.adjacency_matrix(Rho).todense())"
   ]
  },
  {
   "cell_type": "code",
   "execution_count": 76,
   "metadata": {},
   "outputs": [],
   "source": [
    "def weighted_permutation_graph(G_A,P_A,Ef_A,k_A):\n",
    "    return 0\n",
    "    "
   ]
  },
  {
   "cell_type": "markdown",
   "metadata": {},
   "source": [
    "# Algorithm 2 Weighted Graph "
   ]
  },
  {
   "cell_type": "code",
   "execution_count": 77,
   "metadata": {},
   "outputs": [
    {
     "name": "stdout",
     "output_type": "stream",
     "text": [
      "[1, 2, 3, 4, 5, 6]\n",
      "Prior to preprocessing: \n",
      "[[0 2 0 3 2 2]\n",
      " [2 0 2 1 1 4]\n",
      " [0 2 0 2 2 2]\n",
      " [3 1 2 0 2 4]\n",
      " [2 1 2 2 0 4]\n",
      " [2 4 2 4 4 0]]\n",
      "Number of mappings to be eliminated: 3\n",
      "Stack of mappings to be eliminated:\n",
      "(1, 2)\n",
      "(1, 3)\n",
      "(2, 3)\n",
      "Above should correspond with Rho: \n",
      "[[ 0. 14. 12. inf inf inf]\n",
      " [14.  0. 14. inf inf inf]\n",
      " [12. 14.  0. inf inf inf]\n",
      " [inf inf inf  0. inf inf]\n",
      " [inf inf inf inf  0. inf]\n",
      " [inf inf inf inf inf  0.]]\n"
     ]
    },
    {
     "name": "stderr",
     "output_type": "stream",
     "text": [
      "/Library/Frameworks/Python.framework/Versions/3.7/lib/python3.7/site-packages/networkx/drawing/nx_pylab.py:579: MatplotlibDeprecationWarning: \n",
      "The iterable function was deprecated in Matplotlib 3.1 and will be removed in 3.3. Use np.iterable instead.\n",
      "  if not cb.iterable(width):\n"
     ]
    },
    {
     "data": {
      "image/png": "[encoded data removed]",
      "text/plain": [
       "<Figure size 432x288 with 1 Axes>"
      ]
     },
     "metadata": {},
     "output_type": "display_data"
    }
   ],
   "source": [
    "#\n",
    "#\n",
    "nx.draw(G_A,with_labels=True,font_weight='bold')\n",
    "#\n",
    "# variables\n",
    "#\n",
    "k_A = 1\n",
    "w0,Rho = _solve_matching(G_A,Ef_A,k_A)\n",
    "print(f\"Prior to preprocessing: \\n{_mat(Rho)}\")\n",
    "\n",
    "#\n",
    "# initialization\n",
    "#\n",
    "T,stack = _initialize(Rho)\n",
    "print(f\"Number of mappings to be eliminated: {T}\")\n",
    "print(f\"Stack of mappings to be eliminated:\")\n",
    "for e in stack:print(e)\n",
    "print(f\"Above should correspond with Rho: \\n{_mat(Rho)}\")\n",
    "\n",
    "# while t.e. weights \n",
    "\n"
   ]
  },
  {
   "cell_type": "markdown",
   "metadata": {},
   "source": [
    "#  - - - - - Comparison of Edges Killed - - - - - "
   ]
  },
  {
   "cell_type": "code",
   "execution_count": null,
   "metadata": {},
   "outputs": [],
   "source": []
  },
  {
   "cell_type": "markdown",
   "metadata": {},
   "source": [
    "# Refine By Matching Driver"
   ]
  },
  {
   "cell_type": "code",
   "execution_count": 21,
   "metadata": {
    "scrolled": false
   },
   "outputs": [
    {
     "name": "stderr",
     "output_type": "stream",
     "text": [
      "/Library/Frameworks/Python.framework/Versions/3.7/lib/python3.7/site-packages/networkx/drawing/nx_pylab.py:579: MatplotlibDeprecationWarning: \n",
      "The iterable function was deprecated in Matplotlib 3.1 and will be removed in 3.3. Use np.iterable instead.\n",
      "  if not cb.iterable(width):\n"
     ]
    },
    {
     "data": {
      "image/png": "[encoded data removed]",
      "text/plain": [
       "<Figure size 432x288 with 1 Axes>"
      ]
     },
     "metadata": {},
     "output_type": "display_data"
    },
    {
     "name": "stdout",
     "output_type": "stream",
     "text": [
      "Refine by Matching output below\n",
      "Refine by Matching output above\n",
      " mapping (1, 2) possible when [(3, 2)] is deleted\n",
      " mapping (1, 3) possible when [] is deleted\n",
      " mapping (1, 5) possible when [(5, 4)] is deleted\n",
      " mapping (1, 6) possible when [(1, 2)] is deleted\n",
      " mapping (2, 3) possible when [(2, 1)] is deleted\n",
      " mapping (2, 4) possible when [] is deleted\n",
      " mapping (2, 5) possible when [] is deleted\n",
      " mapping (3, 4) possible when [(4, 6)] is deleted\n",
      " mapping (3, 5) possible when [(5, 1)] is deleted\n",
      " mapping (3, 6) possible when [(3, 2)] is deleted\n",
      " mapping (4, 5) possible when [] is deleted\n"
     ]
    }
   ],
   "source": [
    "nx.draw(G_A, with_labels=True, font_weight='bold')\n",
    "plt.show()\n",
    "#initialize\n",
    "k_A = 1\n",
    "\n",
    "b4dde = len(P_A.edges())\n",
    "b4ddeMat = nx.adjacency_matrix(P_A).todense()\n",
    "P_A = DegreeDiffElim(G_A,P_A,k_A)\n",
    "afterdde = len(P_A.edges())\n",
    "afterddeMat = nx.adjacency_matrix(P_A).todense()\n",
    "print(\"Refine by Matching output below\")\n",
    "pm = RefineByMatching(G_A,P_A,Ef_A,k_A)\n",
    "print(\"Refine by Matching output above\")\n",
    "#print(f\" unproven mappings before DegreeDiffElim: {b4dde} \\n\")\n",
    "#print(np.matrix(b4ddeMat))\n",
    "#print(f\"\\n unproven mappings after DegreeDiffElim, before RBM: {afterdde} \\n\")\n",
    "#print(np.matrix(afterddeMat))\n",
    "#print(f\"\\n unproven mappings after RBM:  {len(P_A.edges())}\\n\")\n",
    "#print(np.matrix(nx.adjacency_matrix(P_A).todense()))\n",
    "for _k in pm.keys():\n",
    "    print(f\" mapping {_k} possible when {pm[_k]} is deleted\")\n",
    "\n",
    "\n",
    "#\n",
    "# draw bipartite graph\n",
    "#\n",
    "#l,r = bipartite.sets(cm)\n",
    "#pos = dict()\n",
    "#pos.update( (nn, (1, ii+ len(l)/2)) for ii, nn in enumerate(l) ) # put nodes from X at x=1\n",
    "#pos.update( (nn, (2, n*ii)) for ii, nn in enumerate(r) ) # put nodes from Y at x=2\n",
    "#nx.draw(cm, pos=pos,with_labels=True)\n",
    "\n",
    "#edge weights\n",
    "#labels = nx.get_edge_attributes(cm, \"weight\")\n",
    "#nx.draw_networkx_edge_labels(cm, pos=pos, edge_labels=labels)\n",
    "plt.show()"
   ]
  },
  {
   "cell_type": "code",
   "execution_count": null,
   "metadata": {},
   "outputs": [],
   "source": [
    "\n",
    "\n"
   ]
  },
  {
   "cell_type": "code",
   "execution_count": null,
   "metadata": {},
   "outputs": [],
   "source": []
  }
 ],
 "metadata": {
  "kernelspec": {
   "display_name": "Python 3",
   "language": "python",
   "name": "python3"
  },
  "language_info": {
   "codemirror_mode": {
    "name": "ipython",
    "version": 3
   },
   "file_extension": ".py",
   "mimetype": "text/x-python",
   "name": "python",
   "nbconvert_exporter": "python",
   "pygments_lexer": "ipython3",
   "version": "3.7.2"
  }
 },
 "nbformat": 4,
 "nbformat_minor": 2
}
